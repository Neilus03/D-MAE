{
 "cells": [
  {
   "cell_type": "markdown",
   "metadata": {},
   "source": [
    "# 1. Analyzing Locally Hosted Data"
   ]
  },
  {
   "cell_type": "code",
   "execution_count": 4,
   "metadata": {},
   "outputs": [
    {
     "name": "stderr",
     "output_type": "stream",
     "text": [
      "118287it [17:09, 114.86it/s]\n"
     ]
    },
    {
     "name": "stdout",
     "output_type": "stream",
     "text": [
      "Image Statistics: {'min': {'min': 0.0, 'max': 0.4196078431372549, 'mean': 0.0007729621391109726, 'std': 0.00867470330872324}, 'max': {'min': 0.3411764705882353, 'max': 1.0, 'mean': 0.9978616316546145, 'std': 0.0184084239945548}, 'mean': {'min': 0.005642723952326028, 'max': 0.9856017777777778, 'mean': 0.4415595511481634, 'std': 0.11892355725563003}, 'std': {'min': 0.02401428636566994, 'max': 0.48944016276365343, 'mean': 0.249455558874881, 'std': 0.051816131122659426}}\n",
      "Depth Map Statistics: {'min': {'min': 0.0, 'max': 6.2383575, 'mean': 0.19016321, 'std': 0.4069841}, 'max': {'min': 2.9486177, 'max': 50.807907, 'mean': 13.444314, 'std': 3.7953913}, 'mean': {'min': 0.012939928, 'max': 11.1360235, 'mean': 4.6975307, 'std': 1.4317963}, 'std': {'min': 0.15645814, 'max': 11.423761, 'mean': 3.4330912, 'std': 0.99024653}}\n",
      "Compressed Depth Map Statistics: {'min': {'min': 0.0, 'max': 6.2383575, 'mean': 0.19016321, 'std': 0.4069841}, 'max': {'min': 2.9486177, 'max': 50.807907, 'mean': 13.444314, 'std': 3.7953913}, 'mean': {'min': 0.012939928, 'max': 11.1360235, 'mean': 4.6975307, 'std': 1.4317963}, 'std': {'min': 0.15645814, 'max': 11.423761, 'mean': 3.4330912, 'std': 0.99024653}}\n"
     ]
    }
   ],
   "source": [
    "import os\n",
    "import numpy as np\n",
    "import matplotlib.pyplot as plt\n",
    "from PIL import Image\n",
    "from tqdm import tqdm\n",
    "\n",
    "# Define the paths\n",
    "base_path = \"/home/ndelafuente/D-MAE/data/data\"\n",
    "train_path = os.path.join(base_path, \"train\")\n",
    "val_path = os.path.join(base_path, \"val\")\n",
    "\n",
    "# Subfolders\n",
    "image_folder = \"images\"\n",
    "depth_folder = \"depth\"\n",
    "compressed_depth_folder = \"compressed_depth\"\n",
    "\n",
    "def calculate_statistics(image_files, depth_files, compressed_depth_files):\n",
    "    # Initialize lists to store statistics\n",
    "    image_stats = {\"min\": [], \"max\": [], \"mean\": [], \"std\": []}\n",
    "    depth_stats = {\"min\": [], \"max\": [], \"mean\": [], \"std\": []}\n",
    "    compressed_depth_stats = {\"min\": [], \"max\": [], \"mean\": [], \"std\": []}\n",
    "    \n",
    "    # Iterate through files and compute statistics\n",
    "    for image_file, depth_file, compressed_depth_file in tqdm(zip(image_files, depth_files, compressed_depth_files)):\n",
    "        # Load image and compute statistics\n",
    "        image = np.array(Image.open(image_file)) / 255.0  # Normalize to [0, 1]\n",
    "        image_stats[\"min\"].append(np.min(image))\n",
    "        image_stats[\"max\"].append(np.max(image))\n",
    "        image_stats[\"mean\"].append(np.mean(image))\n",
    "        image_stats[\"std\"].append(np.std(image))\n",
    "        \n",
    "        # Load depth map and compute statistics\n",
    "        depth = np.load(depth_file)\n",
    "        depth_stats[\"min\"].append(np.min(depth))\n",
    "        depth_stats[\"max\"].append(np.max(depth))\n",
    "        depth_stats[\"mean\"].append(np.mean(depth))\n",
    "        depth_stats[\"std\"].append(np.std(depth))\n",
    "        \n",
    "        # Load compressed depth map and compute statistics\n",
    "        compressed_depth = np.load(compressed_depth_file)\n",
    "        compressed_depth_array = compressed_depth[compressed_depth.files[0]]  # Access the first array in the .npz file\n",
    "        compressed_depth_stats[\"min\"].append(np.min(compressed_depth_array))\n",
    "        compressed_depth_stats[\"max\"].append(np.max(compressed_depth_array))\n",
    "        compressed_depth_stats[\"mean\"].append(np.mean(compressed_depth_array))\n",
    "        compressed_depth_stats[\"std\"].append(np.std(compressed_depth_array))\n",
    "    \n",
    "    # Aggregate statistics\n",
    "    image_stats_agg = {k: {\"min\": np.min(v), \"max\": np.max(v), \"mean\": np.mean(v), \"std\": np.std(v)} for k, v in image_stats.items()}\n",
    "    depth_stats_agg = {k: {\"min\": np.min(v), \"max\": np.max(v), \"mean\": np.mean(v), \"std\": np.std(v)} for k, v in depth_stats.items()}\n",
    "    compressed_depth_stats_agg = {k: {\"min\": np.min(v), \"max\": np.max(v), \"mean\": np.mean(v), \"std\": np.std(v)} for k, v in compressed_depth_stats.items()}\n",
    "    \n",
    "    return image_stats_agg, depth_stats_agg, compressed_depth_stats_agg\n",
    "\n",
    "# Now run the updated code\n",
    "image_stats, depth_stats, compressed_depth_stats = calculate_statistics(image_files, depth_files, compressed_depth_files)\n",
    "\n",
    "# Print the statistics\n",
    "print(\"Image Statistics:\", image_stats)\n",
    "print(\"Depth Map Statistics:\", depth_stats)\n",
    "print(\"Compressed Depth Map Statistics:\", compressed_depth_stats)\n",
    "\n"
   ]
  },
  {
   "cell_type": "markdown",
   "metadata": {},
   "source": [
    "# 2. Loading and Analyzing Data from Hugging Face"
   ]
  },
  {
   "cell_type": "code",
   "execution_count": 5,
   "metadata": {},
   "outputs": [
    {
     "name": "stderr",
     "output_type": "stream",
     "text": [
      "/home/ndelafuente/miniconda3/envs/d-mae/lib/python3.12/site-packages/tqdm/auto.py:21: TqdmWarning: IProgress not found. Please update jupyter and ipywidgets. See https://ipywidgets.readthedocs.io/en/stable/user_install.html\n",
      "  from .autonotebook import tqdm as notebook_tqdm\n",
      "Downloading data: 100%|██████████| 31/31 [10:50<00:00, 20.99s/files]\n",
      "Downloading data: 100%|██████████| 326M/326M [00:05<00:00, 56.1MB/s] \n",
      "Downloading data: 100%|██████████| 324M/324M [00:05<00:00, 54.7MB/s] \n",
      "Generating train split: 100%|██████████| 118287/118287 [00:42<00:00, 2777.67 examples/s]\n",
      "Generating validation split: 100%|██████████| 5000/5000 [00:01<00:00, 2815.56 examples/s]"
     ]
    },
    {
     "name": "stdout",
     "output_type": "stream",
     "text": [
      "DatasetDict({\n",
      "    train: Dataset({\n",
      "        features: ['image'],\n",
      "        num_rows: 118287\n",
      "    })\n",
      "    validation: Dataset({\n",
      "        features: ['image'],\n",
      "        num_rows: 5000\n",
      "    })\n",
      "})\n"
     ]
    },
    {
     "name": "stderr",
     "output_type": "stream",
     "text": [
      "\n"
     ]
    },
    {
     "ename": "KeyError",
     "evalue": "'depth'",
     "output_type": "error",
     "traceback": [
      "\u001b[0;31m---------------------------------------------------------------------------\u001b[0m",
      "\u001b[0;31mKeyError\u001b[0m                                  Traceback (most recent call last)",
      "Cell \u001b[0;32mIn[5], line 43\u001b[0m\n\u001b[1;32m     40\u001b[0m     plt\u001b[38;5;241m.\u001b[39mshow()\n\u001b[1;32m     42\u001b[0m \u001b[38;5;66;03m# Example of visualizing data from Hugging Face dataset\u001b[39;00m\n\u001b[0;32m---> 43\u001b[0m \u001b[43mvisualize_huggingface_data\u001b[49m\u001b[43m(\u001b[49m\u001b[43mdataset\u001b[49m\u001b[43m,\u001b[49m\u001b[43m \u001b[49m\u001b[43msplit\u001b[49m\u001b[38;5;241;43m=\u001b[39;49m\u001b[38;5;124;43m\"\u001b[39;49m\u001b[38;5;124;43mtrain\u001b[39;49m\u001b[38;5;124;43m\"\u001b[39;49m\u001b[43m,\u001b[49m\u001b[43m \u001b[49m\u001b[43mindex\u001b[49m\u001b[38;5;241;43m=\u001b[39;49m\u001b[38;5;241;43m0\u001b[39;49m\u001b[43m)\u001b[49m\n",
      "Cell \u001b[0;32mIn[5], line 16\u001b[0m, in \u001b[0;36mvisualize_huggingface_data\u001b[0;34m(dataset, split, index)\u001b[0m\n\u001b[1;32m     14\u001b[0m \u001b[38;5;66;03m# Convert the images and depth maps to numpy arrays for visualization\u001b[39;00m\n\u001b[1;32m     15\u001b[0m image \u001b[38;5;241m=\u001b[39m np\u001b[38;5;241m.\u001b[39marray(data[\u001b[38;5;124m\"\u001b[39m\u001b[38;5;124mimage\u001b[39m\u001b[38;5;124m\"\u001b[39m])\n\u001b[0;32m---> 16\u001b[0m depth \u001b[38;5;241m=\u001b[39m np\u001b[38;5;241m.\u001b[39marray(\u001b[43mdata\u001b[49m\u001b[43m[\u001b[49m\u001b[38;5;124;43m\"\u001b[39;49m\u001b[38;5;124;43mdepth\u001b[39;49m\u001b[38;5;124;43m\"\u001b[39;49m\u001b[43m]\u001b[49m)\n\u001b[1;32m     17\u001b[0m compressed_depth \u001b[38;5;241m=\u001b[39m np\u001b[38;5;241m.\u001b[39marray(data[\u001b[38;5;124m\"\u001b[39m\u001b[38;5;124mcompressed_depth\u001b[39m\u001b[38;5;124m\"\u001b[39m])\n\u001b[1;32m     19\u001b[0m \u001b[38;5;66;03m# Plotting the image and depth maps\u001b[39;00m\n",
      "\u001b[0;31mKeyError\u001b[0m: 'depth'"
     ]
    }
   ],
   "source": [
    "from datasets import load_dataset\n",
    "\n",
    "# Load the dataset from Hugging Face\n",
    "dataset = load_dataset(\"neildlf/depth_coco\")\n",
    "\n",
    "# Check the structure of the dataset\n",
    "print(dataset)\n",
    "\n",
    "# Function to visualize data from the Hugging Face dataset\n",
    "def visualize_huggingface_data(dataset, split=\"train\", index=0):\n",
    "    # Get the data\n",
    "    data = dataset[split][index]\n",
    "\n",
    "    # Convert the images and depth maps to numpy arrays for visualization\n",
    "    image = np.array(data[\"image\"])\n",
    "    depth = np.array(data[\"depth\"])\n",
    "    compressed_depth = np.array(data[\"compressed_depth\"])\n",
    "    \n",
    "    # Plotting the image and depth maps\n",
    "    plt.figure(figsize=(15, 5))\n",
    "    \n",
    "    # Display image\n",
    "    plt.subplot(1, 3, 1)\n",
    "    plt.imshow(image)\n",
    "    plt.title('Image')\n",
    "    plt.axis('off')\n",
    "    \n",
    "    # Display depth map\n",
    "    plt.subplot(1, 3, 2)\n",
    "    plt.imshow(depth, cmap='gray')\n",
    "    plt.title('Depth Map')\n",
    "    plt.axis('off')\n",
    "    \n",
    "    # Display compressed depth map\n",
    "    plt.subplot(1, 3, 3)\n",
    "    plt.imshow(compressed_depth, cmap='gray')\n",
    "    plt.title('Compressed Depth Map')\n",
    "    plt.axis('off')\n",
    "    \n",
    "    plt.show()\n",
    "\n",
    "# Example of visualizing data from Hugging Face dataset\n",
    "visualize_huggingface_data(dataset, split=\"train\", index=0)"
   ]
  },
  {
   "cell_type": "code",
   "execution_count": null,
   "metadata": {},
   "outputs": [],
   "source": []
  }
 ],
 "metadata": {
  "kernelspec": {
   "display_name": "d-mae",
   "language": "python",
   "name": "python3"
  },
  "language_info": {
   "codemirror_mode": {
    "name": "ipython",
    "version": 3
   },
   "file_extension": ".py",
   "mimetype": "text/x-python",
   "name": "python",
   "nbconvert_exporter": "python",
   "pygments_lexer": "ipython3",
   "version": "3.12.4"
  }
 },
 "nbformat": 4,
 "nbformat_minor": 2
}
